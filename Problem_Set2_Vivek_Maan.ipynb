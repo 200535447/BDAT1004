{
 "cells": [
  {
   "cell_type": "markdown",
   "id": "aee265ce",
   "metadata": {},
   "source": [
    "# Question 1\n",
    "Consider the following Python module:\n",
    "\n",
    "a = 0\n",
    "\n",
    "def b():\n",
    "\n",
    " global a\n",
    " \n",
    " a = c(a)\n",
    " \n",
    "def c(a):\n",
    "\n",
    " return a + 2\n",
    " \n",
    "After importing the module into the interpreter, you execute:\n",
    "\n",
    "\">>> b()\n",
    "\n",
    "\">>> b()\n",
    "\n",
    "\">>> b()\n",
    "\n",
    "\">>> a?\n",
    "What value is displayed when the last expression (a) is evaluated? Explain your \n",
    "answer by indicating what happens in every executed statemen"
   ]
  },
  {
   "cell_type": "code",
   "execution_count": 3,
   "id": "383b7c04",
   "metadata": {},
   "outputs": [
    {
     "name": "stdout",
     "output_type": "stream",
     "text": [
      "value of a =  6\n"
     ]
    }
   ],
   "source": [
    "a = 0       #creates a variable 'a'\n",
    "def b():    #defines function b()\n",
    " global a   #creates a global variable 'a'\n",
    " a = c(a)   #calls another function c(a) and storing the value of c(a) in a\n",
    "\n",
    "def c(a):   #defines another function c(a)\n",
    " return a + 2   #returns vakue a+2 to the function\n",
    "\n",
    "b()     #calls the function b where  initial value of a=0 , and a's value get updated as 2\n",
    "b()     #calls the function b the second time with updated value of a=2, and a's value gets updated to 4    \n",
    "b()     #calls the function b for third time with  value of a=4  and a's value gets updated to  6\n",
    "a       #stores the latest updated value of a\n",
    "print(\"value of a = \",a)    #prints the latest updated value of 'a' which in 6 in this case"
   ]
  },
  {
   "cell_type": "markdown",
   "id": "b6235907",
   "metadata": {},
   "source": [
    "# Question 2\n",
    " Function fileLength(), given to you, takes the name as input and returns the length of the file. Modify function fileLength() so that a friendly message is printed instead"
   ]
  },
  {
   "cell_type": "code",
   "execution_count": 39,
   "id": "0961c268",
   "metadata": {},
   "outputs": [
    {
     "name": "stdout",
     "output_type": "stream",
     "text": [
      "File Filelength.txt is found...!\n",
      "\n",
      "the file length =  123\n",
      "None\n",
      "file idterm.py not found..!\n"
     ]
    }
   ],
   "source": [
    "def file_length(file_name):\n",
    "    try:\n",
    "        file = open(file_name)\n",
    "        contents = file.read()\n",
    "        file.close()\n",
    "        print(\"File \"+file_name+\" is found...!\")\n",
    "        print(\"\\nthe file length = \",len(contents))\n",
    "    except FileNotFoundError:\n",
    "        return \"file \"+file_name+\" not found..!\"\n",
    "\n",
    "#if file is present in the folder :\n",
    "print(file_length('Filelength.txt'))\n",
    "\n",
    "#if file is not present in  the folder :\n",
    "print(file_length('idterm.py'))"
   ]
  },
  {
   "cell_type": "markdown",
   "id": "acd4572f",
   "metadata": {},
   "source": [
    "# Question 3\n",
    "Write a class named Marsupial that can be used as shown below:\n",
    ">>> m = Marsupial()\n",
    ">>> m.put_in_pouch('doll')\n",
    ">>> m.put_in_pouch('firetruck')\n",
    ">>> m.put_in_pouch('kitten')\n",
    ">>> m.pouch_contents()\n",
    "['doll', 'firetruck', 'kitten'] Now write a class named Kangaroo as a subclass of Marsupial that inherits all the \n",
    "attributes of Marsupial and also:\n",
    "a. extends the Marsupial __init__ constructor to take, as input, the \n",
    "coordinates x and y of the Kangaroo object,\n",
    "b. supports method jump that takes number values dx and dy as input and \n",
    "moves the kangaroo by dx units along the x-axis and by dy units along the y\u0002axis, and\n",
    "c. overloads the __str__ operator so it behaves as shown below.\n",
    ">>> k = Kangaroo(0,0)\n",
    ">>> print(k)\n",
    "I am a Kangaroo located at coordinates (0,0)\n",
    ">>> k.put_in_pouch('doll')\n",
    ">>> k.put_in_pouch('firetruck')\n",
    ">>> k.put_in_pouch('kitten')\n",
    ">>> k.pouch_contents()\n",
    "['doll', 'firetruck', 'kitten']\n",
    ">>> k.jump(1,0)\n",
    ">>> k.jump(1,0)\n",
    ">>> k.jump(1,0)\n",
    ">>> print(k)\n",
    "I am a Kangaroo located at coordinates (3,0)\n"
   ]
  },
  {
   "cell_type": "code",
   "execution_count": 27,
   "id": "a1fd9497",
   "metadata": {},
   "outputs": [
    {
     "name": "stdout",
     "output_type": "stream",
     "text": [
      "class Marsupial contains : ['doll', 'firetruck', 'kitten'] \n",
      "\n",
      "I am a Kangaroo located at coordinates (0,0)\n",
      "\n",
      "Subclass kangaroo contains :  ['doll', 'firetruck', 'kitten', 'doll', 'firetruck', 'kitten'] \n",
      "\n",
      "I am a Kangaroo located at coordinates (3,0)\n",
      "\n"
     ]
    }
   ],
   "source": [
    "\n",
    "class Marsupial:\n",
    "    lst=[]\n",
    "    def init(self): \n",
    "        self.lst = []\n",
    "        \n",
    "    #Add to list\n",
    "    def put_in_pouch(self, item):\n",
    "        self.lst.append(item)\n",
    "        \n",
    "    #Return List\n",
    "    def pouch_contents(self):\n",
    "        return self.lst\n",
    "\n",
    "class Kangaroo(Marsupial):\n",
    "\n",
    "    def __init__(self,x,y):\n",
    "\n",
    "            Marsupial.__init__(self)\n",
    "\n",
    "            self.x = x\n",
    "\n",
    "            self.y = y\n",
    "\n",
    "    def jump(self,dx,dy):\n",
    "\n",
    "        self.x += dx\n",
    "\n",
    "        self.y += dy\n",
    "\n",
    "    def __str__(self):\n",
    "\n",
    "        return 'I am a Kangaroo located at coordinates ({},{})'.format(self.x,self.y)+'\\n'\n",
    "\n",
    "m = Marsupial() \n",
    "m.put_in_pouch('doll') \n",
    "m.put_in_pouch('firetruck') \n",
    "m.put_in_pouch('kitten') \n",
    "print(\"class Marsupial contains :\",m.pouch_contents(),\"\\n\")\n",
    "\n",
    "k = Kangaroo(0,0) \n",
    "print(k) \n",
    "k.put_in_pouch('doll')\n",
    "k.put_in_pouch('firetruck') \n",
    "k.put_in_pouch('kitten') \n",
    "print(\"Subclass kangaroo contains : \",k.pouch_contents(),\"\\n\") \n",
    "k.jump(1,0) \n",
    "k.jump(1,0)\n",
    "k.jump(1,0)\n",
    "print(k)"
   ]
  },
  {
   "cell_type": "markdown",
   "id": "6476742c",
   "metadata": {},
   "source": [
    "# Question 4\n",
    "Write function collatz() that takes a positive integer x as input and prints the \n",
    "Collatz sequence starting at x. A Collatz sequence is obtained by repeatedly applying \n",
    "this rule to the previous number x in the sequence:\n",
    "x = {\n",
    "𝑥/2 𝑖𝑓 𝑥 𝑖𝑠 𝑒𝑣𝑒𝑛\n",
    "3𝑥 + 1 𝑖𝑓 𝑥 𝑖𝑠 𝑜𝑑𝑑\n",
    "Your function should stop when the sequence gets to number 1. Your \n",
    "implementation must be recursive, without any loops.\n",
    ">>> collatz(1)\n",
    "1\n",
    ">>> collatz(10)\n",
    "10\n",
    "5\n",
    "16\n",
    "8\n",
    "4\n",
    "2\n",
    "1"
   ]
  },
  {
   "cell_type": "code",
   "execution_count": 37,
   "id": "6abc2f51",
   "metadata": {},
   "outputs": [
    {
     "name": "stdout",
     "output_type": "stream",
     "text": [
      "entre any number to get collatz sequence : 10\n",
      "10\n",
      "5\n",
      "16\n",
      "8\n",
      "4\n",
      "2\n",
      "1\n"
     ]
    }
   ],
   "source": [
    "def collatz(x):\n",
    "    \n",
    "    print(x)\n",
    "    if x==1:\n",
    "        return\n",
    "    elif x%2==0:\n",
    "        return collatz(x//2)  # recursive call\n",
    "    else:\n",
    "        return collatz((x*3)+1)  # recursive call\n",
    "\n",
    "x=int(input(\"entre any number to get collatz sequence : \"))\n",
    "collatz(x)"
   ]
  },
  {
   "cell_type": "markdown",
   "id": "bac55eb5",
   "metadata": {},
   "source": [
    "# Question 5\n",
    "Write a recursive method binary() that takes a non-negative \n",
    "integer n and prints the binary representation of integer n.\n",
    ">>> binary(0)\n",
    "0\n",
    ">>> binary(1)\n",
    "1\n",
    ">>> binary(3)\n",
    "11\n",
    ">>> binary(9)\n",
    "1001\n"
   ]
  },
  {
   "cell_type": "code",
   "execution_count": 33,
   "id": "509c7f92",
   "metadata": {},
   "outputs": [
    {
     "name": "stdout",
     "output_type": "stream",
     "text": [
      "entre an integer to get its binary representation: 15\n",
      "binary representation :  1111\n"
     ]
    }
   ],
   "source": [
    "def binary( n ):\n",
    "    if n == 0:\n",
    "        return 0\n",
    "    else:\n",
    "        return  n % 2 + 10 * binary(int(n // 2))\n",
    "\n",
    "n = int(input(\"entre an integer to get its binary representation: \"))\n",
    "print(\"binary representation : \",binary(n))"
   ]
  },
  {
   "cell_type": "markdown",
   "id": "e540a076",
   "metadata": {},
   "source": [
    "# Question 6\n",
    "Implement a class named HeadingParser that can be used to parse an HTML \n",
    "document, and retrieve and print all the headings in the document. You should \n",
    "implement your class as a subclass of HTMLParser, defined in Standard Library \n",
    "module html.parser. When fed a string containing HTML code, your class should \n",
    "print the headings, one per line and in the order in which they appear in the \n",
    "document. Each heading should be indented as follows: an h1 heading should have Computer Studies\n",
    "indentation 0, and h2 heading should have indentation 1, etc. Test your \n",
    "implementation using w3c.html.\n",
    ">>> infile = open('w3c.html')\n",
    ">>> content = infile.read()\n",
    ">>> infile.close()\n",
    ">>> hp = HeadingParser()\n",
    ">>> hp.feed(content)\n",
    "W3C Mission\n",
    "Principles\n"
   ]
  },
  {
   "cell_type": "code",
   "execution_count": 34,
   "id": "ffe5fc7c",
   "metadata": {},
   "outputs": [
    {
     "name": "stdout",
     "output_type": "stream",
     "text": [
      "W3C Mission\n",
      "\n",
      "\t\n",
      " Principles\n",
      " \n",
      " \n",
      "\n",
      "\n",
      "\n",
      " \n",
      "\n"
     ]
    }
   ],
   "source": [
    "import re\n",
    "from html.parser import HTMLParser\n",
    "infile = open('w3c.html') \n",
    "content = infile.read() \n",
    "infile.close()\n",
    "\n",
    "class HeadingParser(HTMLParser):\n",
    "    def handle_starttag(self, tag, attrs):\n",
    "        global getHeading\n",
    "        match = re.match(r'h(\\d)', tag, re.I) \n",
    "        if match: \n",
    "            getHeading = int(match.group(1))\n",
    "            \n",
    "    def handle_endtag(self, tag):\n",
    "        match = re.match(r'h(\\d)', tag, re.I)\n",
    "        if match: \n",
    "            getHeading = 0\n",
    "\n",
    "    def handle_data(self, data):\n",
    "        if getHeading > 0:\n",
    "            tab = getHeading - 1\n",
    "            out = \" \"*tab\n",
    "            print(out+data)\n",
    "            \n",
    "getHeading = 0\n",
    "hp = HeadingParser()\n",
    "hp.feed(content)"
   ]
  },
  {
   "cell_type": "markdown",
   "id": "2004e3ff",
   "metadata": {},
   "source": [
    "# Question 7\n",
    "Implement recursive function webdir() that takes as input: a URL (as a string) and \n",
    "non-negative integers depth and indent. Your function should visit every web \n",
    "page reachable from the starting URL web page in depth clicks or less, and print \n",
    "each web page's URL. As shown below, indentation, specified by indent, should \n",
    "be used to indicate the depth of a URL.# "
   ]
  },
  {
   "cell_type": "code",
   "execution_count": 38,
   "id": "11a1b60d",
   "metadata": {},
   "outputs": [
    {
     "name": "stdout",
     "output_type": "stream",
     "text": [
      "http://reed.cs.depaul.edu/lperkovic/csc242/test4.html\n"
     ]
    }
   ],
   "source": [
    "import requests\n",
    "from bs4 import BeautifulSoup   \n",
    "\n",
    "def webdir(url, depth, indent):\n",
    "    resp = requests.get(url)\n",
    "    print(url)\n",
    "    if(depth == indent):\n",
    "        return\n",
    "    soup = BeautifulSoup(resp.text, 'html.parser')  \n",
    "    for link in soup.findAll('a'):\n",
    "        new_link = link.get('href')\n",
    "        if(new_link.startswith('https')):\n",
    "            webdir(new_link, depth, indent+1)\n",
    "\n",
    "webdir('http://reed.cs.depaul.edu/lperkovic/csc242/test4.html', 2, 0)    "
   ]
  },
  {
   "cell_type": "markdown",
   "id": "44a9fc7a",
   "metadata": {},
   "source": [
    "# Question 8\n",
    "Write SQL queries on the below database table that return: \n",
    "a) All the temperature data.\n",
    "b) All the cities, but without repetition.\n",
    "c) All the records for India.\n",
    "d) All the Fall records.\n",
    "e) The city, country, and season for which the average rainfall is between 200 and 400 millimeters.\n",
    "f) The city and country for which the average Fall temperature is above 20 degrees, in increasing temperature order.\n",
    "g) The total annual rainfall for Cairo.\n",
    "h) The total rainfall for each season."
   ]
  },
  {
   "cell_type": "markdown",
   "id": "5d696972",
   "metadata": {},
   "source": [
    "## a) All the temperature data"
   ]
  },
  {
   "cell_type": "code",
   "execution_count": null,
   "id": "285a204c",
   "metadata": {},
   "outputs": [],
   "source": [
    "%%sql\n",
    "select Temperature from weatherTable"
   ]
  },
  {
   "cell_type": "markdown",
   "id": "1c44276f",
   "metadata": {},
   "source": [
    "## b) All the cities, but without repetition"
   ]
  },
  {
   "cell_type": "code",
   "execution_count": null,
   "id": "59693720",
   "metadata": {},
   "outputs": [],
   "source": [
    "%%sql\n",
    "select DISTINCT City from weatherTable"
   ]
  },
  {
   "cell_type": "markdown",
   "id": "84c58bb1",
   "metadata": {},
   "source": [
    "## c) All the records for India."
   ]
  },
  {
   "cell_type": "code",
   "execution_count": null,
   "id": "20bef99f",
   "metadata": {},
   "outputs": [],
   "source": [
    "%%sql\n",
    "select * from weatherTable where Country='India'"
   ]
  },
  {
   "cell_type": "markdown",
   "id": "2e4e8ee8",
   "metadata": {},
   "source": [
    "## d) All the Fall records"
   ]
  },
  {
   "cell_type": "code",
   "execution_count": null,
   "id": "2978bb4f",
   "metadata": {},
   "outputs": [],
   "source": [
    "%%sql\n",
    "select * from weatherTable where Season='Fall'"
   ]
  },
  {
   "cell_type": "markdown",
   "id": "038a34e0",
   "metadata": {},
   "source": [
    "## e) The city, country, and season for which the average rainfall is between 200  and 400 millimeters.\n"
   ]
  },
  {
   "cell_type": "code",
   "execution_count": null,
   "id": "fc632b5e",
   "metadata": {},
   "outputs": [],
   "source": [
    "%%sql\n",
    "SELECT  City, Country, Season, AVG(Rainfall) FROM weatherTable \n",
    "GROUP BY Rainfall\n",
    "Having AVG(Rainfall) BETWEEN 200 AND 400;"
   ]
  },
  {
   "cell_type": "markdown",
   "id": "21522cbf",
   "metadata": {},
   "source": [
    "## f) The city and country for which the average Fall temperature is above 20 degrees, in increasing temperature order."
   ]
  },
  {
   "cell_type": "code",
   "execution_count": null,
   "id": "fcbff160",
   "metadata": {},
   "outputs": [],
   "source": [
    "%%sql\n",
    "select City, Country, AVG(Temperature) FROM weatherTable\n",
    "WHERE Season = 'Fall'  \n",
    "group by Temperature\n",
    "HAVING AVG(Temperature) > 20\n",
    "ORDER BY AVG(Temperature) ASC;"
   ]
  },
  {
   "cell_type": "markdown",
   "id": "0a204c48",
   "metadata": {},
   "source": [
    "## g) The total annual rainfall for Cairo."
   ]
  },
  {
   "cell_type": "code",
   "execution_count": null,
   "id": "4eab1910",
   "metadata": {},
   "outputs": [],
   "source": [
    "%%sql\n",
    "select City, SUM(Rainfall) FROM weatherTable where City='Cairo'"
   ]
  },
  {
   "cell_type": "markdown",
   "id": "d6cf0ab7",
   "metadata": {},
   "source": [
    "## h) The total rainfall for each season."
   ]
  },
  {
   "cell_type": "code",
   "execution_count": null,
   "id": "aa85f053",
   "metadata": {},
   "outputs": [],
   "source": [
    "%%sql\n",
    "select Season, SUM(Rainfall) FROM weatherTable\n",
    "group by Season"
   ]
  },
  {
   "cell_type": "markdown",
   "id": "86ca28f1",
   "metadata": {},
   "source": [
    "# Question 9. \n",
    "\n",
    "Write list comprehension expressions that use list words and generate the following \n",
    "lists:\n"
   ]
  },
  {
   "cell_type": "code",
   "execution_count": 35,
   "id": "465d42e3",
   "metadata": {},
   "outputs": [
    {
     "name": "stdout",
     "output_type": "stream",
     "text": [
      "a).\n",
      " ['THE', 'QUICK', 'BROWN', 'FOX', 'JUMPS', 'OVER', 'THE', 'LAZY', 'DOG']\n",
      "\n",
      "\n",
      "b).\n",
      " ['the', 'quick', 'brown', 'fox', 'jumps', 'over', 'the', 'lazy', 'dog']\n",
      "\n",
      "\n",
      "c).\n",
      " [3, 5, 5, 3, 5, 4, 3, 4, 3]\n",
      "\n",
      "\n",
      "d).\n",
      " [['THE', 'the', 3], ['QUICK', 'quick', 5], ['BROWN', 'brown', 5], ['FOX', 'fox', 3], ['JUMPS', 'jumps', 5], ['OVER', 'over', 4], ['THE', 'the', 3], ['LAZY', 'lazy', 4], ['DOG', 'dog', 3]]\n",
      "\n",
      "\n",
      "e).\n",
      " ['quick', 'brown', 'jumps', 'over', 'lazy']\n"
     ]
    }
   ],
   "source": [
    "words = [\"The\", \"quick\", \"brown\", \"fox\", \"jumps\", \"over\", \"the\", \"lazy\", \"dog\"]\n",
    "\n",
    "# a) Converting words into upper case words\n",
    "upper = [word.upper() for word in words]\n",
    "print(\"a).\\n\",upper)\n",
    "print(\"\\n\")\n",
    "\n",
    "# b) Converting words into lower case words\n",
    "lower = [word.lower() for word in words]\n",
    "print(\"b).\\n\",lower)\n",
    "print(\"\\n\")\n",
    "\n",
    "# c) calculating the list of length of words in list words\n",
    "length = []\n",
    "for w in words:\n",
    "    length.append(len(w))     \n",
    "print(\"c).\\n\",length)\n",
    "print(\"\\n\")\n",
    "\n",
    "# d) the list containing a list for every word of list words, where each list contains the word in uppercase and lowercase and \n",
    "#the length of the word\n",
    "counter = 0\n",
    "array = []\n",
    "    \n",
    "for j in words:\n",
    "    array.append(upper[counter])\n",
    "    array.append(lower[counter])\n",
    "    array.append(length[counter])\n",
    "    counter = counter + 1\n",
    "\n",
    "delimiter = 3\n",
    "resultArray = [array[additor:additor+delimiter] for additor in range(0, len(array), delimiter)]\n",
    "print(\"d).\\n\",resultArray)\n",
    "print(\"\\n\")\n",
    "\n",
    "# e) finding the list of words in list words containing 4 or more characters in it\n",
    "def word_String(k, str):    \n",
    "    string = []     \n",
    "    text = str.split(\" \")     \n",
    "    for i in text:         \n",
    "        if len(i) >= k:            \n",
    "            string.append(i)             \n",
    "    return string\n",
    "    \n",
    "result_list = [''.join([str(c) for c in lst]) for lst in words]\n",
    "result_string = ' '.join(result_list)\n",
    "required_length = 4\n",
    "print(\"e).\\n\",word_String(required_length, result_string))"
   ]
  },
  {
   "cell_type": "code",
   "execution_count": null,
   "id": "5d7a9fac",
   "metadata": {},
   "outputs": [],
   "source": []
  }
 ],
 "metadata": {
  "kernelspec": {
   "display_name": "Python 3 (ipykernel)",
   "language": "python",
   "name": "python3"
  },
  "language_info": {
   "codemirror_mode": {
    "name": "ipython",
    "version": 3
   },
   "file_extension": ".py",
   "mimetype": "text/x-python",
   "name": "python",
   "nbconvert_exporter": "python",
   "pygments_lexer": "ipython3",
   "version": "3.9.12"
  }
 },
 "nbformat": 4,
 "nbformat_minor": 5
}

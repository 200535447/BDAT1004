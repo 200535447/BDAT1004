{
 "cells": [
  {
   "cell_type": "markdown",
   "id": "c3f248b2",
   "metadata": {},
   "source": [
    "# Data Programming- Problem Set 1\n"
   ]
  },
  {
   "cell_type": "markdown",
   "id": "bdfdbf4a",
   "metadata": {},
   "source": [
    "## Q1"
   ]
  },
  {
   "cell_type": "code",
   "execution_count": 10,
   "id": "98047f03",
   "metadata": {},
   "outputs": [
    {
     "name": "stdout",
     "output_type": "stream",
     "text": [
      "<class 'int'>\n",
      "<class 'float'>\n",
      "<class 'bool'>\n",
      "<class 'str'>\n",
      "<class 'int'>\n",
      "<class 'str'>\n",
      "<class 'str'>\n",
      "<class 'float'>\n",
      "<class 'int'>\n",
      "<class 'set'>\n",
      "<class 'bool'>\n"
     ]
    }
   ],
   "source": [
    "print(type(5))\n",
    "print(type(5.0))\n",
    "print(type(5 > 1))\n",
    "print(type('5'))\n",
    "print(type(5 * 2))\n",
    "print(type('5' * 2))\n",
    "print(type('5' + '2'))\n",
    "print(type(5 / 2))\n",
    "print(type(5 % 2))\n",
    "print(type({5, 2, 1}))\n",
    "print(type(5 == 3))\n",
    "#print(math.pi) #printing data types in order"
   ]
  },
  {
   "cell_type": "markdown",
   "id": "3f132ed2",
   "metadata": {},
   "source": [
    "## Q2"
   ]
  },
  {
   "cell_type": "code",
   "execution_count": 30,
   "id": "f5cdb392",
   "metadata": {},
   "outputs": [
    {
     "name": "stdout",
     "output_type": "stream",
     "text": [
      "1. There are 18 letters in Big Data Analytics\n",
      " Yes, ata is substring\n",
      "2. Aakash is first in the list\n"
     ]
    }
   ],
   "source": [
    "import math\n",
    "\n",
    "#assign values to string\n",
    "string1 = \"Big Data Analytics\" \n",
    "string2 = \"computer science\" \n",
    "string3 = \"artificial intelligence\"  \n",
    "#getting the lengths of the strings\n",
    "len1 = len(string1) \n",
    "len2 = len(string2) \n",
    "len3 = len(string3)\n",
    "\n",
    "#print length for string 1\n",
    "print(\"1. There are\",len1, \"letters in Big Data Analytics\") \n",
    "if 'ata' in string1:\n",
    "    print(\" Yes, ata is substring\")\n",
    "else:\n",
    "    print(\"No, ata is not a substring\")\n",
    "if len1 >= len2:\n",
    "    if len1 >= len3:\n",
    "        print(\"String 1 is the largest\")\n",
    "elif len2 >= len1:\n",
    "    if len2 >= len3:\n",
    "        print(\"String 2 is the largest\")\n",
    "else:\n",
    "    print(\"String 3 is the largest\")\n",
    "names = ['Arun', 'Aakash', 'Ritz','Billy', 'Kevin']\n",
    "names.sort() #Sorting values in alphabetical order\n",
    "print(\"2.\",composer[0] + \" is first in the list\")\n"
   ]
  },
  {
   "cell_type": "markdown",
   "id": "ce95b7ea",
   "metadata": {},
   "source": [
    "## Q3"
   ]
  },
  {
   "cell_type": "code",
   "execution_count": 12,
   "id": "edd4dd72",
   "metadata": {},
   "outputs": [
    {
     "name": "stdout",
     "output_type": "stream",
     "text": [
      "Area of triangle is 120.0\n"
     ]
    }
   ],
   "source": [
    "#define method for calculating area of triangle\n",
    "def t_area(a,b,c): #Defing variables\n",
    "    x = (a+b+c)/2\n",
    "    area = math.sqrt(x*(x-a)*(x-b)*(x-c))\n",
    "    return area\n",
    "area = t_area(17,30,17)\n",
    "\n",
    "print(\"Area of triangle is\",str(area)) "
   ]
  },
  {
   "cell_type": "markdown",
   "id": "9feb58f9",
   "metadata": {},
   "source": [
    "## Q4"
   ]
  },
  {
   "cell_type": "code",
   "execution_count": 13,
   "id": "ff833d6f",
   "metadata": {},
   "outputs": [
    {
     "name": "stdout",
     "output_type": "stream",
     "text": [
      "Enter the no of elements :2\n",
      "Enter the element number 0: 1\n",
      "Enter the element number 1: 2\n",
      "The even elements are: \n",
      "[2]\n",
      "The odd elements are: \n",
      "[1]\n"
     ]
    }
   ],
   "source": [
    "#Accept values from user\n",
    "arr_len = int(input(\"Enter the no of elements :\")) \n",
    "array = []\n",
    "\n",
    "x = 0  # Initialize a counter\n",
    "while x < arr_len:\n",
    "    element = int(input(\"Enter the element number \" + str(x) + \": \"))\n",
    "    array.append(element)\n",
    "    x += 1\n",
    "    \n",
    "even_no= []\n",
    "odd_no = []\n",
    "for i in range(arr_len):\n",
    "    if array[i]%2 == 1:\n",
    "        odd_no.append(array[i])\n",
    "    if array[i]%2 == 0:\n",
    "        even_no.append(array[i])\n",
    "        \n",
    "print(\"The even elements are: \")\n",
    "print(even_no)\n",
    "print(\"The odd elements are: \")\n",
    "print(odd_no)"
   ]
  },
  {
   "cell_type": "markdown",
   "id": "f1bd65dd",
   "metadata": {},
   "source": [
    "## Q5"
   ]
  },
  {
   "cell_type": "code",
   "execution_count": 14,
   "id": "3c9766cf",
   "metadata": {},
   "outputs": [
    {
     "name": "stdout",
     "output_type": "stream",
     "text": [
      "Enter the point 1: 2\n",
      "Enter the point 2: 4\n",
      "False\n",
      "False\n",
      "False\n"
     ]
    }
   ],
   "source": [
    "#define method\n",
    "def inside(i,j,i1,j1,i2,j2): \n",
    "    if (i > i1 and i < i2) and (j > j1 and j < j2):\n",
    "        print(\"True\")\n",
    "    else:\n",
    "        print(\"False\")\n",
    " \n",
    "i = int(input(\"Enter the point 1: \"))\n",
    "j = int(input(\"Enter the point 2: \"))\n",
    "inside(i,j,3,3,2,3)\n",
    "inside(1,1,2.2,1.5,1.9,3.7)\n",
    "inside(1,1,1.5,2.2,2.3,2)"
   ]
  },
  {
   "cell_type": "markdown",
   "id": "e8c7cee3",
   "metadata": {},
   "source": [
    "## Q6"
   ]
  },
  {
   "cell_type": "code",
   "execution_count": 15,
   "id": "4feaff08",
   "metadata": {},
   "outputs": [
    {
     "name": "stdout",
     "output_type": "stream",
     "text": [
      "Enter the word: safdgfh\n",
      "afdgfhsay\n"
     ]
    }
   ],
   "source": [
    "#define method\n",
    "def pig(word): \n",
    "    lengthofword = len(word)\n",
    "    array = []\n",
    "    for x in range(lengthofword):\n",
    "        array.append(word[x])\n",
    "    if array[0] != 'a':\n",
    "        if array[0] != 'e':\n",
    "            if array[0] != 'i':\n",
    "                if array[0] != 'o':\n",
    "                    if array[0] != 'u':\n",
    "                        flag = array[0]\n",
    "                        array.remove(array[0])\n",
    "                        array.append(flag)\n",
    "                        array.append('a')\n",
    "                        array.append('y')\n",
    "                    else:\n",
    "                        array.append('w')\n",
    "                        array.append('a')\n",
    "                        array.append('y')\n",
    "                else:\n",
    "                    array.append('w')\n",
    "                    array.append('a')\n",
    "                    array.append('y')\n",
    "            else:\n",
    "                array.append('w')\n",
    "                array.append('a')\n",
    "                array.append('y')\n",
    "        else:\n",
    "            array.append('w')\n",
    "            array.append('a')\n",
    "            array.append('y')\n",
    "    else:\n",
    "        array.append('w')\n",
    "        array.append('a')\n",
    "        array.append('y')\n",
    "    finalstring = \"\"\n",
    "    for x in array:\n",
    "        finalstring += x\n",
    "    return finalstring\n",
    "word = str(input(\"Enter the word: \"))\n",
    "finalword = pig(word)\n",
    "print(finalword)"
   ]
  },
  {
   "cell_type": "markdown",
   "id": "1ae80d57",
   "metadata": {},
   "source": [
    "## Q7"
   ]
  },
  {
   "cell_type": "code",
   "execution_count": 35,
   "id": "bd56bf90",
   "metadata": {},
   "outputs": [
    {
     "name": "stdout",
     "output_type": "stream",
     "text": [
      "blood group A: 15\n",
      "blood group B: 1\n",
      "blood group AB: 13\n",
      "blood group O: 15\n"
     ]
    }
   ],
   "source": [
    "file = open(\"bloodtype1.txt\", \"r\") ##Opening given text file\n",
    "list = file.readlines() #Reading file\n",
    "for i in list:\n",
    "    content = i.split() #Splinting lines inside the loop\n",
    "A = content.count('A')\n",
    "B = content.count('B')\n",
    "AB = content.count('AB')\n",
    "O = content.count('O')\n",
    "\n",
    "print(\"blood group A:\" ,A)\n",
    "print(\"blood group B:\" ,B)\n",
    "print(\"blood group AB:\" ,AB)\n",
    "print(\"blood group O:\" ,O)\n"
   ]
  },
  {
   "cell_type": "markdown",
   "id": "508547d8",
   "metadata": {},
   "source": [
    "## Q8"
   ]
  },
  {
   "cell_type": "code",
   "execution_count": 36,
   "id": "9cd3d311",
   "metadata": {},
   "outputs": [
    {
     "name": "stdout",
     "output_type": "stream",
     "text": [
      "Enter the currency code: THB\n",
      "Enter the amount: 22\n",
      "22.0 THB is equal to 0.6903358 USD\n"
     ]
    }
   ],
   "source": [
    "#define method\n",
    "def currency_conv(currency, amount):\n",
    "    #exchange rates as a dictionary\n",
    "    exchange_rates = {\n",
    "        'AUD': 1.0345157,\n",
    "        'CHF': 1.0237414,\n",
    "        'CNY': 0.1550176,\n",
    "        'DKK': 0.1651442,\n",
    "        'EUR': 1.2296544,\n",
    "        'GBP': 1.5550989,\n",
    "        'HKD': 0.1270207,\n",
    "        'INR': 0.0177643,\n",
    "        'JPY': 0.01241401,\n",
    "        'MXN': 0.0751848,\n",
    "        'MYR': 0.3145411,\n",
    "        'NOK': 0.1677063,\n",
    "        'NZD': 0.8003591,\n",
    "        'PHP': 0.0233234,\n",
    "        'SEK': 0.148269,\n",
    "        'SGD': 0.788871,\n",
    "        'THB': 0.0313789,\n",
    "    }\n",
    "    #check for currency in dictionary\n",
    "    if currency in exchange_rates: \n",
    "        #convergence of currency\n",
    "        usd_amt = amount * exchange_rates[currency] \n",
    "        return usd_amt\n",
    "    else:\n",
    "        return f\"Currency'{currency}' not found in data.\"\n",
    "\n",
    "currency = input(\"Enter the currency code: \") #Getting values from user\n",
    "amount = float(input(\"Enter the amount: \"))\n",
    "\n",
    "result = currency_conv(currency, amount) #Calling function\n",
    "\n",
    "# Display the result\n",
    "if isinstance(result, str):\n",
    "    print(result)  # Displaying error message\n",
    "else:\n",
    "    print(f\"{amount} {currency} is equal to {result} USD\")"
   ]
  },
  {
   "cell_type": "markdown",
   "id": "97f0daab",
   "metadata": {},
   "source": [
    "## Q9"
   ]
  },
  {
   "cell_type": "markdown",
   "id": "614724ee",
   "metadata": {},
   "source": [
    "### A."
   ]
  },
  {
   "cell_type": "code",
   "execution_count": 39,
   "id": "52e37d55",
   "metadata": {
    "scrolled": true
   },
   "outputs": [
    {
     "ename": "TypeError",
     "evalue": "unsupported operand type(s) for +: 'int' and 'str'",
     "output_type": "error",
     "traceback": [
      "\u001b[0;31m---------------------------------------------------------------------------\u001b[0m",
      "\u001b[0;31mTypeError\u001b[0m                                 Traceback (most recent call last)",
      "Input \u001b[0;32mIn [39]\u001b[0m, in \u001b[0;36m<cell line: 2>\u001b[0;34m()\u001b[0m\n\u001b[1;32m      1\u001b[0m \u001b[38;5;66;03m# showing incompatible variables\u001b[39;00m\n\u001b[0;32m----> 2\u001b[0m add \u001b[38;5;241m=\u001b[39m \u001b[38;5;241;43m6\u001b[39;49m\u001b[43m \u001b[49m\u001b[38;5;241;43m+\u001b[39;49m\u001b[43m \u001b[49m\u001b[38;5;124;43m'\u001b[39;49m\u001b[38;5;124;43mbdat\u001b[39;49m\u001b[38;5;124;43m'\u001b[39;49m  \n\u001b[1;32m      4\u001b[0m \u001b[38;5;28mprint\u001b[39m(\u001b[38;5;124m\"\u001b[39m\u001b[38;5;124maddition is:\u001b[39m\u001b[38;5;124m\"\u001b[39m, add)\n",
      "\u001b[0;31mTypeError\u001b[0m: unsupported operand type(s) for +: 'int' and 'str'"
     ]
    }
   ],
   "source": [
    "# showing incompatible variables\n",
    "add = 6 + 'bdat'  \n",
    "\n",
    "print(\"addition is:\", add)"
   ]
  },
  {
   "cell_type": "markdown",
   "id": "2f66a899",
   "metadata": {},
   "source": [
    "### B."
   ]
  },
  {
   "cell_type": "code",
   "execution_count": 40,
   "id": "4319cb5a",
   "metadata": {},
   "outputs": [
    {
     "ename": "IndexError",
     "evalue": "list index out of range",
     "output_type": "error",
     "traceback": [
      "\u001b[0;31m---------------------------------------------------------------------------\u001b[0m",
      "\u001b[0;31mIndexError\u001b[0m                                Traceback (most recent call last)",
      "Input \u001b[0;32mIn [40]\u001b[0m, in \u001b[0;36m<cell line: 4>\u001b[0;34m()\u001b[0m\n\u001b[1;32m      1\u001b[0m \u001b[38;5;66;03m# showing index error\u001b[39;00m\n\u001b[1;32m      3\u001b[0m my_list \u001b[38;5;241m=\u001b[39m [\u001b[38;5;241m3\u001b[39m,\u001b[38;5;241m5\u001b[39m,\u001b[38;5;241m2\u001b[39m,\u001b[38;5;241m1\u001b[39m,\u001b[38;5;241m5\u001b[39m,\u001b[38;5;241m5\u001b[39m]\n\u001b[0;32m----> 4\u001b[0m no \u001b[38;5;241m=\u001b[39m \u001b[43mmy_list\u001b[49m\u001b[43m[\u001b[49m\u001b[38;5;241;43m7\u001b[39;49m\u001b[43m]\u001b[49m  \u001b[38;5;66;03m# Raises an IndexError\u001b[39;00m\n\u001b[1;32m      6\u001b[0m \u001b[38;5;28mprint\u001b[39m(\u001b[38;5;124m\"\u001b[39m\u001b[38;5;124mnumber:\u001b[39m\u001b[38;5;124m\"\u001b[39m, no)\n",
      "\u001b[0;31mIndexError\u001b[0m: list index out of range"
     ]
    }
   ],
   "source": [
    "# showing index error\n",
    "\n",
    "my_list = [3,5,2,1,5,5]\n",
    "no = my_list[7]  \n",
    "\n",
    "print(\"number:\", no)"
   ]
  },
  {
   "cell_type": "markdown",
   "id": "dc1340fb",
   "metadata": {},
   "source": [
    "### C."
   ]
  },
  {
   "cell_type": "code",
   "execution_count": 42,
   "id": "adb182cf",
   "metadata": {},
   "outputs": [
    {
     "ename": "ValueError",
     "evalue": "math domain error",
     "output_type": "error",
     "traceback": [
      "\u001b[0;31m---------------------------------------------------------------------------\u001b[0m",
      "\u001b[0;31mValueError\u001b[0m                                Traceback (most recent call last)",
      "Input \u001b[0;32mIn [42]\u001b[0m, in \u001b[0;36m<cell line: 3>\u001b[0;34m()\u001b[0m\n\u001b[1;32m      1\u001b[0m \u001b[38;5;66;03m# Using a value that is out of range for a function's input\u001b[39;00m\n\u001b[1;32m      2\u001b[0m \u001b[38;5;28;01mimport\u001b[39;00m \u001b[38;5;21;01mmath\u001b[39;00m\n\u001b[0;32m----> 3\u001b[0m result \u001b[38;5;241m=\u001b[39m \u001b[43mmath\u001b[49m\u001b[38;5;241;43m.\u001b[39;49m\u001b[43msqrt\u001b[49m\u001b[43m(\u001b[49m\u001b[38;5;241;43m-\u001b[39;49m\u001b[38;5;241;43m4.0\u001b[39;49m\u001b[43m)\u001b[49m  \n\u001b[1;32m      5\u001b[0m \u001b[38;5;28mprint\u001b[39m(\u001b[38;5;124m\"\u001b[39m\u001b[38;5;124mresult :\u001b[39m\u001b[38;5;124m\"\u001b[39m, result)\n",
      "\u001b[0;31mValueError\u001b[0m: math domain error"
     ]
    }
   ],
   "source": [
    "# Using a value that is out of range for a function's input\n",
    "import math\n",
    "result = math.sqrt(-4.0)  \n",
    "\n",
    "print(\"result :\", result)"
   ]
  },
  {
   "cell_type": "markdown",
   "id": "d5ca503c",
   "metadata": {},
   "source": [
    "### D."
   ]
  },
  {
   "cell_type": "code",
   "execution_count": 44,
   "id": "893fbde8",
   "metadata": {},
   "outputs": [
    {
     "ename": "NameError",
     "evalue": "name 'Y' is not defined",
     "output_type": "error",
     "traceback": [
      "\u001b[0;31m---------------------------------------------------------------------------\u001b[0m",
      "\u001b[0;31mNameError\u001b[0m                                 Traceback (most recent call last)",
      "Input \u001b[0;32mIn [44]\u001b[0m, in \u001b[0;36m<cell line: 2>\u001b[0;34m()\u001b[0m\n\u001b[1;32m      1\u001b[0m \u001b[38;5;66;03m# undeclared variable error\u001b[39;00m\n\u001b[0;32m----> 2\u001b[0m \u001b[38;5;28mprint\u001b[39m(\u001b[43mY\u001b[49m)\n",
      "\u001b[0;31mNameError\u001b[0m: name 'Y' is not defined"
     ]
    }
   ],
   "source": [
    "# undeclared variable error\n",
    "print(Y)"
   ]
  },
  {
   "cell_type": "markdown",
   "id": "30854b96",
   "metadata": {},
   "source": [
    "### E."
   ]
  },
  {
   "cell_type": "code",
   "execution_count": 45,
   "id": "f8ed73e4",
   "metadata": {},
   "outputs": [
    {
     "ename": "FileNotFoundError",
     "evalue": "[Errno 2] No such file or directory: 'doc.txt'",
     "output_type": "error",
     "traceback": [
      "\u001b[0;31m---------------------------------------------------------------------------\u001b[0m",
      "\u001b[0;31mFileNotFoundError\u001b[0m                         Traceback (most recent call last)",
      "Input \u001b[0;32mIn [45]\u001b[0m, in \u001b[0;36m<cell line: 2>\u001b[0;34m()\u001b[0m\n\u001b[1;32m      1\u001b[0m \u001b[38;5;66;03m# Trying to open a file that does not exist\u001b[39;00m\n\u001b[0;32m----> 2\u001b[0m \u001b[38;5;28;01mwith\u001b[39;00m \u001b[38;5;28;43mopen\u001b[39;49m\u001b[43m(\u001b[49m\u001b[38;5;124;43m'\u001b[39;49m\u001b[38;5;124;43mdoc.txt\u001b[39;49m\u001b[38;5;124;43m'\u001b[39;49m\u001b[43m,\u001b[49m\u001b[43m \u001b[49m\u001b[38;5;124;43m'\u001b[39;49m\u001b[38;5;124;43mr\u001b[39;49m\u001b[38;5;124;43m'\u001b[39;49m\u001b[43m)\u001b[49m \u001b[38;5;28;01mas\u001b[39;00m file:\n\u001b[1;32m      3\u001b[0m     content \u001b[38;5;241m=\u001b[39m file\u001b[38;5;241m.\u001b[39mread()\n",
      "\u001b[0;31mFileNotFoundError\u001b[0m: [Errno 2] No such file or directory: 'doc.txt'"
     ]
    }
   ],
   "source": [
    "# Trying to open a file that does not exist\n",
    "with open('doc.txt', 'r') as file:\n",
    "    content = file.read()"
   ]
  },
  {
   "cell_type": "markdown",
   "id": "4afa6232",
   "metadata": {},
   "source": [
    "## Q10"
   ]
  },
  {
   "cell_type": "code",
   "execution_count": 47,
   "id": "289db70f",
   "metadata": {},
   "outputs": [
    {
     "name": "stdout",
     "output_type": "stream",
     "text": [
      "[0, 0, 0, 1, 1, 0, 0, 1, 0, 0, 0]\n",
      "[1, 0, 1, 0, 3, 0, 3, 0, 1, 0, 0]\n"
     ]
    }
   ],
   "source": [
    "#define method\n",
    "def frequency(sentence): \n",
    "    #store some random letters\n",
    "    random = \"abcdefghijk\" #Taking random letters\n",
    "    c = [] #Initializing empty list\n",
    "    for l in random:\n",
    "        #counting frequency here \n",
    "        count = sentence.count(l) \n",
    "        c.append(count)\n",
    "    print(c)  \n",
    "\n",
    "frequency(\"hello world\")\n",
    "frequency(\"georgian college\")"
   ]
  },
  {
   "cell_type": "code",
   "execution_count": null,
   "id": "5231814f",
   "metadata": {},
   "outputs": [],
   "source": []
  },
  {
   "cell_type": "code",
   "execution_count": null,
   "id": "81d951b8",
   "metadata": {},
   "outputs": [],
   "source": []
  }
 ],
 "metadata": {
  "kernelspec": {
   "display_name": "Python 3 (ipykernel)",
   "language": "python",
   "name": "python3"
  },
  "language_info": {
   "codemirror_mode": {
    "name": "ipython",
    "version": 3
   },
   "file_extension": ".py",
   "mimetype": "text/x-python",
   "name": "python",
   "nbconvert_exporter": "python",
   "pygments_lexer": "ipython3",
   "version": "3.9.12"
  }
 },
 "nbformat": 4,
 "nbformat_minor": 5
}
